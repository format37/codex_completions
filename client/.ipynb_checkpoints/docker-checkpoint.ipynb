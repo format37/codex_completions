{
 "cells": [
  {
   "cell_type": "code",
   "execution_count": 1,
   "id": "6370c0cc",
   "metadata": {},
   "outputs": [],
   "source": [
    "import requests\n",
    "import json"
   ]
  },
  {
   "cell_type": "code",
   "execution_count": 2,
   "id": "d7cb9a96",
   "metadata": {
    "scrolled": true
   },
   "outputs": [],
   "source": [
    "def docker_completion(\n",
    "    docker_server_address,\n",
    "    prompt,\n",
    "    token = '',\n",
    "    engine = 'davinci-codex',\n",
    "    max_tokens = 300,\n",
    "    temperature = 1,\n",
    "    top_p = 1,\n",
    "    n = 1,    \n",
    "    echo = False,\n",
    "    stop = '',\n",
    "    presence_penalty = 0,\n",
    "    frequency_penalty = 0,\n",
    "    best_of = 1    \n",
    "):\n",
    "    request = {\n",
    "        'engine':engine,\n",
    "        'prompt':prompt,\n",
    "        'max_tokens':max_tokens,\n",
    "        'temperature':temperature,\n",
    "        'top_p':top_p,\n",
    "        'n':n,\n",
    "        'echo':echo,\n",
    "        'stop':stop,\n",
    "        'presence_penalty':presence_penalty,\n",
    "        'frequency_penalty':frequency_penalty,\n",
    "        'best_of':best_of\n",
    "    }\n",
    "    if not token == '':\n",
    "        request['token'] = token\n",
    "    request_str = json.dumps(request)\n",
    "    r = requests.post(docker_server_address, json=request_str)\n",
    "    response = json.loads(r.text)\n",
    "    i = 0\n",
    "    result = '#' + response['model']\n",
    "    for choice in response['choices']:\n",
    "        result += '\\n# === choice' + str(i)\n",
    "        result += '\\n'+choice['text']\n",
    "        i+=1\n",
    "    return result"
   ]
  },
  {
   "cell_type": "code",
   "execution_count": 3,
   "id": "600c3aff",
   "metadata": {},
   "outputs": [
    {
     "name": "stdout",
     "output_type": "stream",
     "text": [
      "#davinci-codex:2021-08-03\n",
      "# === choice0\n",
      "\n",
      "import random\n",
      "first_names = ['John', 'Jane', 'Corey', 'Travis', 'Dave', 'Kurt', 'Neil', 'Sam']\n",
      "last_names = ['Schafer', 'Barker', 'Doe', 'Felch', 'Doe', 'Cranston', 'Possel', 'Polachek']\n",
      "full_names = []\n",
      "full_names.clear()\n",
      "\n",
      "for i in range(8):\n",
      "    for j in range(8):\n",
      "        name = first_names[i] + ' ' + last_names[j]\n",
      "        full_names.append(name)\n",
      "\n",
      "for name in full_names:\n",
      "    print(name)\n"
     ]
    }
   ],
   "source": [
    "prompt = \\\n",
    "\"\"\"\n",
    "***\n",
    "1. Create a list of 8 first names\n",
    "2. Create a list of 8 last names\n",
    "3. Combine them randomly into a list of full names\n",
    "***\n",
    "\"\"\"\n",
    "result = docker_completion(\n",
    "    prompt=prompt, \n",
    "    docker_server_address = 'http://192.168.1.23:42012/completion'\n",
    ")\n",
    "print(result)"
   ]
  }
 ],
 "metadata": {
  "kernelspec": {
   "display_name": "Python 3",
   "language": "python",
   "name": "python3"
  },
  "language_info": {
   "codemirror_mode": {
    "name": "ipython",
    "version": 3
   },
   "file_extension": ".py",
   "mimetype": "text/x-python",
   "name": "python",
   "nbconvert_exporter": "python",
   "pygments_lexer": "ipython3",
   "version": "3.9.2"
  }
 },
 "nbformat": 4,
 "nbformat_minor": 5
}
