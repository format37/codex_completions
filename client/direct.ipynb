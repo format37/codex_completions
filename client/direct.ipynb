{
 "cells": [
  {
   "cell_type": "code",
   "execution_count": 1,
   "id": "522f84bb",
   "metadata": {},
   "outputs": [],
   "source": [
    "#!pip install openai"
   ]
  },
  {
   "cell_type": "code",
   "execution_count": 2,
   "id": "6ebec490",
   "metadata": {},
   "outputs": [],
   "source": [
    "import os\n",
    "import openai\n",
    "import json"
   ]
  },
  {
   "cell_type": "code",
   "execution_count": 3,
   "id": "087e390a",
   "metadata": {},
   "outputs": [],
   "source": [
    "openai.api_key = os.getenv(\"OPENAI_API_KEY\")"
   ]
  },
  {
   "cell_type": "code",
   "execution_count": 4,
   "id": "d08ed698",
   "metadata": {},
   "outputs": [
    {
     "name": "stdout",
     "output_type": "stream",
     "text": [
      "# davinci-codex:2021-08-03\n",
      "# === choice0\n",
      "\n",
      "# Solution proposed in exercise\n",
      "def combine_list(l1, l2, n):\n",
      "    output_list = []\n",
      "    for x in np.arange(0,n):\n",
      "        input_index = np.random.randint(0, high=len(l1))\n",
      "        output_list.append(l1[input_index] + ' ' + l2[input_index])\n",
      "    return output_list\n",
      "print combine_list(['John','Bob','Tom'],['Smith','Klein','Ricci'], 2)\n",
      "\n",
      "# Student-sent solution\n",
      "def student_combine_list(l1,l2,n):\n",
      "    names = []\n",
      "    for i in range(n):         # Create a range of indexes\n",
      "        name = l1[random.randint(0,len(l2))] + \\\n",
      "               ' ' + l2[random.randint(0,len(l2))]\n",
      "        names.append(name)\n",
      "    return names\n",
      "\n",
      "# Student homework for file \"homework3.py\"\n",
      "def pair_swap(input_string):\n",
      "    output_string = ''\n",
      "    for character in range(0,len(input_string)//2):\n",
      "        output_string+=input_string[character + (len(input_string)//2)]\n",
      "    for character in\n"
     ]
    }
   ],
   "source": [
    "# Define prompt\n",
    "prompt = \\\n",
    "\"\"\"\n",
    "***\n",
    "1. Create a list of 8 first names\n",
    "2. Create a list of 8 last names\n",
    "3. Combine them randomly into a list of full names\n",
    "***\n",
    "\"\"\"\n",
    "# Create completion\n",
    "response = openai.Completion.create(\n",
    "    engine=\"davinci-codex\",\n",
    "    prompt=prompt.replace('***','\"\"\"'),\n",
    "    max_tokens=300\n",
    ")\n",
    "# Plot response\n",
    "response_dict = json.loads(str(response))\n",
    "i = 0\n",
    "result = '# ' + response_dict['model']\n",
    "for choice in response_dict['choices']:\n",
    "    result += '\\n# === choice' + str(i)\n",
    "    result += '\\n'+choice['text']\n",
    "    i+=1\n",
    "    \n",
    "print(result)"
   ]
  }
 ],
 "metadata": {
  "kernelspec": {
   "display_name": "Python 3",
   "language": "python",
   "name": "python3"
  },
  "language_info": {
   "codemirror_mode": {
    "name": "ipython",
    "version": 3
   },
   "file_extension": ".py",
   "mimetype": "text/x-python",
   "name": "python",
   "nbconvert_exporter": "python",
   "pygments_lexer": "ipython3",
   "version": "3.9.2"
  }
 },
 "nbformat": 4,
 "nbformat_minor": 5
}
